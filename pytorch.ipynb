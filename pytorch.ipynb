{
 "cells": [
  {
   "cell_type": "markdown",
   "metadata": {},
   "source": [
    "# Pytorch Tutorial"
   ]
  },
  {
   "cell_type": "markdown",
   "metadata": {},
   "source": [
    "Pytorch is a popular deep learning framework and it's easy to get started."
   ]
  },
  {
   "cell_type": "code",
   "execution_count": 9,
   "metadata": {
    "collapsed": true
   },
   "outputs": [],
   "source": [
    "import torch\n",
    "import torch.nn as nn\n",
    "import torch.utils.data as data\n",
    "import torchvision\n",
    "import torchvision.transforms as transforms\n",
    "from tqdm import tqdm\n",
    "import time\n",
    "import numpy as np\n",
    "\n",
    "BATCH_SIZE = 128\n",
    "NUM_EPOCHS = 10"
   ]
  },
  {
   "cell_type": "markdown",
   "metadata": {},
   "source": [
    "First, we read the mnist data, preprocess them and encapsulate them into dataloader form."
   ]
  },
  {
   "cell_type": "code",
   "execution_count": 10,
   "metadata": {
    "collapsed": true
   },
   "outputs": [],
   "source": [
    "# preprocessing\n",
    "normalize = transforms.Normalize(mean=[.5], std=[.5])\n",
    "transform = transforms.Compose([transforms.ToTensor(), normalize])\n",
    "\n",
    "# download and load the data\n",
    "train_dataset = torchvision.datasets.MNIST(root='./mnist/', train=True, transform=transform, download=True)\n",
    "test_dataset = torchvision.datasets.MNIST(root='./mnist/', train=False, transform=transform, download=False)\n",
    "\n",
    "# encapsulate them into dataloader form\n",
    "train_loader = data.DataLoader(train_dataset, batch_size=BATCH_SIZE, shuffle=True, drop_last=True)\n",
    "test_loader = data.DataLoader(test_dataset, batch_size=BATCH_SIZE, shuffle=False, drop_last=True)"
   ]
  },
  {
   "cell_type": "markdown",
   "metadata": {},
   "source": [
    "Then, we define the model, object function and optimizer that we use to classify."
   ]
  },
  {
   "cell_type": "code",
   "execution_count": 11,
   "metadata": {
    "collapsed": true
   },
   "outputs": [],
   "source": [
    "class SimpleNet(nn.Module):\n",
    "# TODO:define model\n",
    "    def __init__(self):\n",
    "        super(SimpleNet, self).__init__()\n",
    "        \n",
    "        self.hidden_dim = 28*3\n",
    "        self.fc=nn.Sequential(nn.Linear(28*28,self.hidden_dim),\n",
    "                             nn.ReLU(),\n",
    "                             nn.Linear(self.hidden_dim,10))\n",
    "\n",
    "    def forward(self, x):\n",
    "        x=x.view(-1,28*28)\n",
    "        x=self.fc(x)\n",
    "        return x\n",
    "\n",
    "\n",
    "    \n",
    "model = SimpleNet()\n",
    "\n",
    "# TODO:define loss function and optimiter\n",
    "criterion = nn.CrossEntropyLoss()\n",
    "optimizer = torch.optim.Adam(model.parameters())"
   ]
  },
  {
   "cell_type": "markdown",
   "metadata": {},
   "source": [
    "Next, we can start to train and evaluate!"
   ]
  },
  {
   "cell_type": "code",
   "execution_count": 15,
   "metadata": {
    "collapsed": true,
    "scrolled": true
   },
   "outputs": [
    {
     "output_type": "stream",
     "name": "stderr",
     "text": [
      "100%|██████████| 468/468 [00:17<00:00, 26.07it/s]\n",
      "100%|██████████| 468/468 [00:20<00:00, 23.19it/s]\n",
      "100%|██████████| 468/468 [00:21<00:00, 22.28it/s]\n",
      "100%|██████████| 468/468 [00:19<00:00, 23.76it/s]\n",
      "100%|██████████| 468/468 [00:18<00:00, 25.02it/s]\n",
      "100%|██████████| 468/468 [00:19<00:00, 24.25it/s]\n",
      "100%|██████████| 468/468 [00:20<00:00, 22.43it/s]\n",
      "100%|██████████| 468/468 [00:18<00:00, 25.05it/s]\n",
      "100%|██████████| 468/468 [00:18<00:00, 25.27it/s]\n",
      "100%|██████████| 468/468 [00:19<00:00, 24.19it/s]\n"
     ]
    }
   ],
   "source": [
    "# train and evaluate\n",
    "for epoch in range(NUM_EPOCHS):\n",
    "    for images, labels in tqdm(train_loader):\n",
    "        # TODO:forward + backward + optimize\n",
    "        predicted_labels = model(images)\n",
    "        loss = criterion(predicted_labels,labels)\n",
    "        optimizer.zero_grad()\n",
    "        loss.backward()\n",
    "        optimizer.step()\n",
    "        "
   ]
  },
  {
   "cell_type": "markdown",
   "metadata": {},
   "source": [
    "#### Q5:\n",
    "Please print the training and testing accuracy."
   ]
  },
  {
   "cell_type": "code",
   "execution_count": 23,
   "metadata": {},
   "outputs": [
    {
     "output_type": "stream",
     "name": "stdout",
     "text": [
      "Training Accuracy = 99.05%\n",
      "Testing Accuracy = 97.09%\n"
     ]
    }
   ],
   "source": [
    "# evaluate\n",
    "    # TODO:calculate the accuracy using traning and testing dataset\n",
    "\n",
    "train_accuracy =0.0\n",
    "train_number =0.0\n",
    "\n",
    "for images, labels in train_loader:\n",
    "    output_test = model(images)\n",
    "    _, predicted = torch.max(output_test, 1) \n",
    "    train_number += BATCH_SIZE\n",
    "    train_accuracy += (predicted == labels).sum()  \n",
    "\n",
    "    \n",
    "print('Training Accuracy = %0.2f%%' %((train_accuracy/train_number)*100))\n",
    "    \n",
    "\n",
    "test_accuracy =0.0\n",
    "test_number =0.0\n",
    "\n",
    "for images, labels in test_loader:\n",
    "    output_train = model(images)\n",
    "    _, predicted = torch.max(output_train, 1)\n",
    "    test_number += BATCH_SIZE\n",
    "    test_accuracy += (predicted == labels).sum()   \n",
    "    \n",
    "print('Testing Accuracy = %0.2f%%' %((test_accuracy/test_number)*100))"
   ]
  }
 ],
 "metadata": {
  "kernelspec": {
   "name": "python370jvsc74a57bd00600588c3b5f4418cbe7b5ebc6825b479f3bc010269d8b60d75058cdd010adfe",
   "display_name": "Python 3.7.0 64-bit"
  },
  "language_info": {
   "codemirror_mode": {
    "name": "ipython",
    "version": 3
   },
   "file_extension": ".py",
   "mimetype": "text/x-python",
   "name": "python",
   "nbconvert_exporter": "python",
   "pygments_lexer": "ipython3",
   "version": "3.7.0"
  }
 },
 "nbformat": 4,
 "nbformat_minor": 2
}